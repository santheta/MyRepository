{
 "cells": [
  {
   "cell_type": "markdown",
   "id": "f8f6209f-5ba6-489e-94b0-fcc5ed309e98",
   "metadata": {},
   "source": [
    "# Data Science Tools and Ecosystem"
   ]
  },
  {
   "cell_type": "markdown",
   "id": "91987812-33af-4865-a715-8bcc8121b256",
   "metadata": {},
   "source": [
    "## In this notebook, Data Science Tools and Ecosystem are summarized.\n",
    "\n"
   ]
  },
  {
   "cell_type": "markdown",
   "id": "12fa67f3-0495-4b7b-9046-8d0667525ad0",
   "metadata": {},
   "source": [
    "#### Some of the popular languages that Data Scientists use are:\n",
    "1. Java\n",
    "2. python\n",
    "3. C"
   ]
  },
  {
   "cell_type": "markdown",
   "id": "37fcb443-e3e6-49c7-99d3-008d3785f4c0",
   "metadata": {},
   "source": [
    "### Some of the commonly used libraries used by Data Scientists include:\n",
    "1. NumPy \n",
    "2. pandas \n",
    "3. matplotlib \n",
    "\n"
   ]
  },
  {
   "cell_type": "markdown",
   "id": "a3d135ed-62d5-45f9-9d06-135b5dd243e3",
   "metadata": {},
   "source": [
    "### 📊 Data Science Tools Overview\n",
    "\n",
    "| Category               | Tool/Library        | Description                                                                 |\n",
    "|------------------------|---------------------|-----------------------------------------------------------------------------|\n",
    "| Programming Languages  | Python, R           | Widely used for statistical analysis, machine learning, and scripting      |\n",
    "| Data Manipulation      | pandas, NumPy        | Handle structured data, perform numerical operations                        |\n",
    "| Data Visualization     | Matplotlib, Seaborn, Plotly | Create static, animated, and interactive charts                          |\n",
    "| Machine Learning       | scikit-learn, TensorFlow, PyTorch | Algorithms for classification, regression, and deep learning     |\n",
    "| Statistical Analysis   | SciPy, StatsModels   | Advanced statistical tests and distributions                               |\n",
    "| Big Data Tools         | Spark, Hadoop        | Handle massive datasets across distributed systems                         |\n",
    "| Data Cleaning          | OpenRefine, pandas   | Clean and transform messy data                                              |\n",
    "| Databases              | SQL, MongoDB         | Store and query structured/unstructured data                                |\n",
    "| Web Scraping           | Beautiful"
   ]
  },
  {
   "cell_type": "markdown",
   "id": "82a5b91e-b8be-49d7-82e6-ec8b7a7001b4",
   "metadata": {},
   "source": [
    "###  Below are a few examples of evaluating arithmetic expressions in Python.\n",
    "\n",
    "You can use Python’s built-in arithmetic operators to perform calculations such as addition, subtraction, multiplication, and division. Here are a few examples to get started:\n",
    "\n",
    "```python\n",
    "# Addition\n",
    "result = 5 + 3       # Output: 8\n",
    "\n",
    "# Subtraction\n",
    "result = 10 - 4      # Output: 6\n",
    "\n",
    "# Multiplication\n",
    "result = 7 * 2       # Output: 14\n",
    "\n",
    "# Division\n",
    "result = 12 / 3      # Output: 4.0\n",
    "\n",
    "# Integer Division\n",
    "result = 12 // 5     # Output: 2\n",
    "\n",
    "# Modulus (Remainder)\n",
    "result = 14 % 4      # Output: 2\n",
    "\n",
    "# Exponentiation\n",
    "result = 2 ** 3      # Output: 8"
   ]
  },
  {
   "cell_type": "markdown",
   "id": "cd7977df-2806-4d06-a9bf-48d31e754cd4",
   "metadata": {},
   "source": [
    "# This is a simple arithmetic expression to multiply then add integers\n",
    "result = (3 * 4) + 5\n",
    "print(result)  # Output: 17"
   ]
  },
  {
   "cell_type": "code",
   "execution_count": 10,
   "id": "ede3d2fa-02f6-4a69-a501-1c1b4322ce0a",
   "metadata": {},
   "outputs": [
    {
     "name": "stdout",
     "output_type": "stream",
     "text": [
      "17\n"
     ]
    }
   ],
   "source": [
    "# This is a simple arithmetic expression to multiply then add integers\n",
    "result = (3 * 4) + 5\n",
    "print(result) "
   ]
  },
  {
   "cell_type": "code",
   "execution_count": null,
   "id": "4a230b3a-fdf5-49e4-b99d-8465a8a65eae",
   "metadata": {},
   "outputs": [],
   "source": [
    "# This will convert 200 minutes to hours by dividing by 60\n",
    "hours = 200 / 60\n",
    "print(hours)  "
   ]
  },
  {
   "cell_type": "markdown",
   "id": "d86a4353-6082-4b3a-878c-8141f06669b3",
   "metadata": {},
   "source": [
    "**Objectives:**\n",
    "\n",
    "- List popular programming languages used in Data Science\n",
    "- Demonstrate basic arithmetic operations using Python\n",
    "- Convert units of measurement (e.g. minutes to hours) with Python expressions\n",
    "- Structure and format Python code with comments and outputs\n",
    "- Introduce key tools and libraries commonly used in Data Science workflows"
   ]
  },
  {
   "cell_type": "markdown",
   "id": "2bdfe072-5b97-4301-9fe9-0c97d76fe0d0",
   "metadata": {},
   "source": [
    "## Author  \n",
    "Sandilya Panda"
   ]
  },
  {
   "cell_type": "code",
   "execution_count": null,
   "id": "f58f2116-f98e-4c8b-a6b4-6e231601fae9",
   "metadata": {},
   "outputs": [],
   "source": []
  }
 ],
 "metadata": {
  "kernelspec": {
   "display_name": "Python [conda env:base] *",
   "language": "python",
   "name": "conda-base-py"
  },
  "language_info": {
   "codemirror_mode": {
    "name": "ipython",
    "version": 3
   },
   "file_extension": ".py",
   "mimetype": "text/x-python",
   "name": "python",
   "nbconvert_exporter": "python",
   "pygments_lexer": "ipython3",
   "version": "3.12.7"
  }
 },
 "nbformat": 4,
 "nbformat_minor": 5
}
